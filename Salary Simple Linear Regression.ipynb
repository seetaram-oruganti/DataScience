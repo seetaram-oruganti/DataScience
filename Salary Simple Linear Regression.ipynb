{
 "metadata": {
  "language_info": {
   "codemirror_mode": {
    "name": "ipython",
    "version": 3
   },
   "file_extension": ".py",
   "mimetype": "text/x-python",
   "name": "python",
   "nbconvert_exporter": "python",
   "pygments_lexer": "ipython3",
   "version": "3.8.3-final"
  },
  "orig_nbformat": 2,
  "kernelspec": {
   "name": "python_defaultSpec_1599726686569",
   "display_name": "Python 3.8.3 64-bit"
  }
 },
 "nbformat": 4,
 "nbformat_minor": 2,
 "cells": [
  {
   "cell_type": "code",
   "execution_count": 1,
   "metadata": {},
   "outputs": [
    {
     "output_type": "execute_result",
     "data": {
      "text/plain": "    YearsExperience    Salary\n0               1.1   39343.0\n1               1.3   46205.0\n2               1.5   37731.0\n3               2.0   43525.0\n4               2.2   39891.0\n5               2.9   56642.0\n6               3.0   60150.0\n7               3.2   54445.0\n8               3.2   64445.0\n9               3.7   57189.0\n10              3.9   63218.0\n11              4.0   55794.0\n12              4.0   56957.0\n13              4.1   57081.0\n14              4.5   61111.0\n15              4.9   67938.0\n16              5.1   66029.0\n17              5.3   83088.0\n18              5.9   81363.0\n19              6.0   93940.0\n20              6.8   91738.0\n21              7.1   98273.0\n22              7.9  101302.0\n23              8.2  113812.0\n24              8.7  109431.0\n25              9.0  105582.0\n26              9.5  116969.0\n27              9.6  112635.0\n28             10.3  122391.0\n29             10.5  121872.0",
      "text/html": "<div>\n<style scoped>\n    .dataframe tbody tr th:only-of-type {\n        vertical-align: middle;\n    }\n\n    .dataframe tbody tr th {\n        vertical-align: top;\n    }\n\n    .dataframe thead th {\n        text-align: right;\n    }\n</style>\n<table border=\"1\" class=\"dataframe\">\n  <thead>\n    <tr style=\"text-align: right;\">\n      <th></th>\n      <th>YearsExperience</th>\n      <th>Salary</th>\n    </tr>\n  </thead>\n  <tbody>\n    <tr>\n      <th>0</th>\n      <td>1.1</td>\n      <td>39343.0</td>\n    </tr>\n    <tr>\n      <th>1</th>\n      <td>1.3</td>\n      <td>46205.0</td>\n    </tr>\n    <tr>\n      <th>2</th>\n      <td>1.5</td>\n      <td>37731.0</td>\n    </tr>\n    <tr>\n      <th>3</th>\n      <td>2.0</td>\n      <td>43525.0</td>\n    </tr>\n    <tr>\n      <th>4</th>\n      <td>2.2</td>\n      <td>39891.0</td>\n    </tr>\n    <tr>\n      <th>5</th>\n      <td>2.9</td>\n      <td>56642.0</td>\n    </tr>\n    <tr>\n      <th>6</th>\n      <td>3.0</td>\n      <td>60150.0</td>\n    </tr>\n    <tr>\n      <th>7</th>\n      <td>3.2</td>\n      <td>54445.0</td>\n    </tr>\n    <tr>\n      <th>8</th>\n      <td>3.2</td>\n      <td>64445.0</td>\n    </tr>\n    <tr>\n      <th>9</th>\n      <td>3.7</td>\n      <td>57189.0</td>\n    </tr>\n    <tr>\n      <th>10</th>\n      <td>3.9</td>\n      <td>63218.0</td>\n    </tr>\n    <tr>\n      <th>11</th>\n      <td>4.0</td>\n      <td>55794.0</td>\n    </tr>\n    <tr>\n      <th>12</th>\n      <td>4.0</td>\n      <td>56957.0</td>\n    </tr>\n    <tr>\n      <th>13</th>\n      <td>4.1</td>\n      <td>57081.0</td>\n    </tr>\n    <tr>\n      <th>14</th>\n      <td>4.5</td>\n      <td>61111.0</td>\n    </tr>\n    <tr>\n      <th>15</th>\n      <td>4.9</td>\n      <td>67938.0</td>\n    </tr>\n    <tr>\n      <th>16</th>\n      <td>5.1</td>\n      <td>66029.0</td>\n    </tr>\n    <tr>\n      <th>17</th>\n      <td>5.3</td>\n      <td>83088.0</td>\n    </tr>\n    <tr>\n      <th>18</th>\n      <td>5.9</td>\n      <td>81363.0</td>\n    </tr>\n    <tr>\n      <th>19</th>\n      <td>6.0</td>\n      <td>93940.0</td>\n    </tr>\n    <tr>\n      <th>20</th>\n      <td>6.8</td>\n      <td>91738.0</td>\n    </tr>\n    <tr>\n      <th>21</th>\n      <td>7.1</td>\n      <td>98273.0</td>\n    </tr>\n    <tr>\n      <th>22</th>\n      <td>7.9</td>\n      <td>101302.0</td>\n    </tr>\n    <tr>\n      <th>23</th>\n      <td>8.2</td>\n      <td>113812.0</td>\n    </tr>\n    <tr>\n      <th>24</th>\n      <td>8.7</td>\n      <td>109431.0</td>\n    </tr>\n    <tr>\n      <th>25</th>\n      <td>9.0</td>\n      <td>105582.0</td>\n    </tr>\n    <tr>\n      <th>26</th>\n      <td>9.5</td>\n      <td>116969.0</td>\n    </tr>\n    <tr>\n      <th>27</th>\n      <td>9.6</td>\n      <td>112635.0</td>\n    </tr>\n    <tr>\n      <th>28</th>\n      <td>10.3</td>\n      <td>122391.0</td>\n    </tr>\n    <tr>\n      <th>29</th>\n      <td>10.5</td>\n      <td>121872.0</td>\n    </tr>\n  </tbody>\n</table>\n</div>"
     },
     "metadata": {},
     "execution_count": 1
    }
   ],
   "source": [
    "import pandas as pd \n",
    "import numpy as np\n",
    "df = pd.read_csv(r\"D:\\simple-Linear-Regression-master\\Salary_Data.csv\")\n",
    "df"
   ]
  },
  {
   "cell_type": "code",
   "execution_count": 2,
   "metadata": {},
   "outputs": [
    {
     "output_type": "execute_result",
     "data": {
      "text/plain": "                 YearsExperience    Salary\nYearsExperience         1.000000  0.978242\nSalary                  0.978242  1.000000",
      "text/html": "<div>\n<style scoped>\n    .dataframe tbody tr th:only-of-type {\n        vertical-align: middle;\n    }\n\n    .dataframe tbody tr th {\n        vertical-align: top;\n    }\n\n    .dataframe thead th {\n        text-align: right;\n    }\n</style>\n<table border=\"1\" class=\"dataframe\">\n  <thead>\n    <tr style=\"text-align: right;\">\n      <th></th>\n      <th>YearsExperience</th>\n      <th>Salary</th>\n    </tr>\n  </thead>\n  <tbody>\n    <tr>\n      <th>YearsExperience</th>\n      <td>1.000000</td>\n      <td>0.978242</td>\n    </tr>\n    <tr>\n      <th>Salary</th>\n      <td>0.978242</td>\n      <td>1.000000</td>\n    </tr>\n  </tbody>\n</table>\n</div>"
     },
     "metadata": {},
     "execution_count": 2
    }
   ],
   "source": [
    "df.corr()\n"
   ]
  },
  {
   "cell_type": "code",
   "execution_count": 5,
   "metadata": {},
   "outputs": [
    {
     "output_type": "execute_result",
     "data": {
      "text/plain": "<statsmodels.regression.linear_model.RegressionResultsWrapper at 0xf89af0e3a0>"
     },
     "metadata": {},
     "execution_count": 5
    }
   ],
   "source": [
    "#Building regression equation\n",
    "import statsmodels.formula.api as smf \n",
    "model = smf.ols(\"Salary~YearsExperience \", data=df).fit()\n",
    "model"
   ]
  },
  {
   "cell_type": "code",
   "execution_count": 8,
   "metadata": {},
   "outputs": [
    {
     "output_type": "execute_result",
     "data": {
      "text/plain": "<class 'statsmodels.iolib.summary2.Summary'>\n\"\"\"\n                     Results: Ordinary least squares\n=========================================================================\nModel:                OLS                Adj. R-squared:       0.955     \nDependent Variable:   Salary             AIC:                  606.8823  \nDate:                 2020-09-10 15:01   BIC:                  609.6847  \nNo. Observations:     30                 Log-Likelihood:       -301.44   \nDf Model:             1                  F-statistic:          622.5     \nDf Residuals:         28                 Prob (F-statistic):   1.14e-20  \nR-squared:            0.957              Scale:                3.3505e+07\n-------------------------------------------------------------------------\n                  Coef.     Std.Err.    t    P>|t|    [0.025     0.975]  \n-------------------------------------------------------------------------\nIntercept       25792.2002 2273.0534 11.3469 0.0000 21136.0613 30448.3391\nYearsExperience  9449.9623  378.7546 24.9501 0.0000  8674.1187 10225.8059\n-------------------------------------------------------------------------\nOmnibus:                  2.140          Durbin-Watson:             1.648\nProb(Omnibus):            0.343          Jarque-Bera (JB):          1.569\nSkew:                     0.363          Prob(JB):                  0.456\nKurtosis:                 2.147          Condition No.:             13   \n=========================================================================\n\n\"\"\"",
      "text/html": "<table class=\"simpletable\">\n<tr>\n        <td>Model:</td>               <td>OLS</td>         <td>Adj. R-squared:</td>      <td>0.955</td>  \n</tr>\n<tr>\n  <td>Dependent Variable:</td>      <td>Salary</td>             <td>AIC:</td>          <td>606.8823</td> \n</tr>\n<tr>\n         <td>Date:</td>        <td>2020-09-10 15:01</td>        <td>BIC:</td>          <td>609.6847</td> \n</tr>\n<tr>\n   <td>No. Observations:</td>         <td>30</td>          <td>Log-Likelihood:</td>     <td>-301.44</td> \n</tr>\n<tr>\n       <td>Df Model:</td>              <td>1</td>           <td>F-statistic:</td>        <td>622.5</td>  \n</tr>\n<tr>\n     <td>Df Residuals:</td>           <td>28</td>        <td>Prob (F-statistic):</td>  <td>1.14e-20</td> \n</tr>\n<tr>\n      <td>R-squared:</td>            <td>0.957</td>            <td>Scale:</td>        <td>3.3505e+07</td>\n</tr>\n</table>\n<table class=\"simpletable\">\n<tr>\n         <td></td>            <th>Coef.</th>   <th>Std.Err.</th>     <th>t</th>     <th>P>|t|</th>   <th>[0.025</th>     <th>0.975]</th>  \n</tr>\n<tr>\n  <th>Intercept</th>       <td>25792.2002</td> <td>2273.0534</td> <td>11.3469</td> <td>0.0000</td> <td>21136.0613</td> <td>30448.3391</td>\n</tr>\n<tr>\n  <th>YearsExperience</th>  <td>9449.9623</td> <td>378.7546</td>  <td>24.9501</td> <td>0.0000</td>  <td>8674.1187</td> <td>10225.8059</td>\n</tr>\n</table>\n<table class=\"simpletable\">\n<tr>\n     <td>Omnibus:</td>    <td>2.140</td>  <td>Durbin-Watson:</td>   <td>1.648</td>\n</tr>\n<tr>\n  <td>Prob(Omnibus):</td> <td>0.343</td> <td>Jarque-Bera (JB):</td> <td>1.569</td>\n</tr>\n<tr>\n       <td>Skew:</td>     <td>0.363</td>     <td>Prob(JB):</td>     <td>0.456</td>\n</tr>\n<tr>\n     <td>Kurtosis:</td>   <td>2.147</td>  <td>Condition No.:</td>    <td>13</td>  \n</tr>\n</table>"
     },
     "metadata": {},
     "execution_count": 8
    }
   ],
   "source": [
    "#model.summary()\n",
    "model.summary2()\n"
   ]
  },
  {
   "cell_type": "code",
   "execution_count": 10,
   "metadata": {},
   "outputs": [
    {
     "output_type": "execute_result",
     "data": {
      "text/plain": "5592.043608760662"
     },
     "metadata": {},
     "execution_count": 10
    }
   ],
   "source": [
    "# Calculating RMSE (root mean square error) same as r**2 squared\n",
    "pred = model.predict(df.YearsExperience)\n",
    "from ml_metrics import rmse \n",
    "rmse(pred, df.Salary)"
   ]
  },
  {
   "cell_type": "code",
   "execution_count": 20,
   "metadata": {},
   "outputs": [
    {
     "output_type": "execute_result",
     "data": {
      "text/plain": "   YearsExperience\n0                0\n1               10\n2                5\n3                3\n4                1\n5                6\n6               15",
      "text/html": "<div>\n<style scoped>\n    .dataframe tbody tr th:only-of-type {\n        vertical-align: middle;\n    }\n\n    .dataframe tbody tr th {\n        vertical-align: top;\n    }\n\n    .dataframe thead th {\n        text-align: right;\n    }\n</style>\n<table border=\"1\" class=\"dataframe\">\n  <thead>\n    <tr style=\"text-align: right;\">\n      <th></th>\n      <th>YearsExperience</th>\n    </tr>\n  </thead>\n  <tbody>\n    <tr>\n      <th>0</th>\n      <td>0</td>\n    </tr>\n    <tr>\n      <th>1</th>\n      <td>10</td>\n    </tr>\n    <tr>\n      <th>2</th>\n      <td>5</td>\n    </tr>\n    <tr>\n      <th>3</th>\n      <td>3</td>\n    </tr>\n    <tr>\n      <th>4</th>\n      <td>1</td>\n    </tr>\n    <tr>\n      <th>5</th>\n      <td>6</td>\n    </tr>\n    <tr>\n      <th>6</th>\n      <td>15</td>\n    </tr>\n  </tbody>\n</table>\n</div>"
     },
     "metadata": {},
     "execution_count": 20
    }
   ],
   "source": [
    "#Predicting for new data \n",
    "#making new dataframe to predict values\n",
    "# years of experies as sserires \n",
    "s1 = pd.Series([0,10,5,3,1,6,15]) \n",
    "d1 = pd.DataFrame(s1, columns=[\"YearsExperience\"])\n",
    "d1\n",
    "#d1.sort_values(by = \"YearsExperience\", ascending= False)"
   ]
  },
  {
   "cell_type": "code",
   "execution_count": 21,
   "metadata": {},
   "outputs": [
    {
     "output_type": "execute_result",
     "data": {
      "text/plain": "0     25792.200199\n1    120291.823413\n2     73042.011806\n3     54142.087163\n4     35242.162520\n5     82491.974127\n6    167541.635020\ndtype: float64"
     },
     "metadata": {},
     "execution_count": 21
    }
   ],
   "source": [
    "model.predict(d1)\n"
   ]
  },
  {
   "cell_type": "code",
   "execution_count": null,
   "metadata": {},
   "outputs": [],
   "source": []
  }
 ]
}